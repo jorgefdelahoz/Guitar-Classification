{
 "cells": [
  {
   "cell_type": "markdown",
   "metadata": {},
   "source": [
    "Scraping images from Google"
   ]
  },
  {
   "cell_type": "code",
   "execution_count": 2,
   "metadata": {
    "scrolled": true
   },
   "outputs": [
    {
     "name": "stdout",
     "output_type": "stream",
     "text": [
      "What do you want to download?\n",
      "Fender Jaguar Guitar\n"
     ]
    },
    {
     "name": "stderr",
     "output_type": "stream",
     "text": [
      "<ipython-input-2-20fe78c28793>:30: DeprecationWarning: use setter for headless property instead of set_headless\n",
      "  options.set_headless(headless=True)\n",
      "<ipython-input-2-20fe78c28793>:31: DeprecationWarning: use options instead of firefox_options\n",
      "  driver = webdriver.Firefox(firefox_options=options)\n"
     ]
    },
    {
     "name": "stdout",
     "output_type": "stream",
     "text": [
      "Images downloaded = 401\r"
     ]
    }
   ],
   "source": [
    "import os\n",
    "from selenium import webdriver\n",
    "from selenium.webdriver.firefox.options import Options\n",
    "from selenium.webdriver.common.keys import Keys\n",
    "\n",
    "# import requests\n",
    "import urllib.request\n",
    "import time\n",
    "# import sys\n",
    "\n",
    "# Making a search taking user input\n",
    "print(\"What do you want to download?\")\n",
    "download = input()\n",
    "site = 'https://www.google.com/search?tbm=isch&q='+download\n",
    "\n",
    "\n",
    "# Creating folder directory (if not exists) with input value\n",
    "folder_name = download.replace(' ','_').lower()\n",
    "path = ('./data/images_download/'+folder_name+'/')\n",
    "\n",
    "if not os.path.exists(path):\n",
    "    os.mkdir(path)\n",
    "\n",
    "\n",
    "# Get path of your Firefox/Chrome drivers and make a connection with it\n",
    "os.environ['PATH'] = f'{os.environ[\"PATH\"]}:{os.getcwd()}/drivers'  \n",
    "os.environ['PATH']\n",
    "\n",
    "options = Options()\n",
    "options.set_headless(headless=True)\n",
    "driver = webdriver.Firefox(firefox_options=options)\n",
    "\n",
    "\n",
    "# passing site url\n",
    "driver.get(site)\n",
    "\n",
    "elm=driver.find_element_by_tag_name('html')\n",
    "\n",
    "\n",
    "i = 0\n",
    "\n",
    "while i<10:  \n",
    "    # for scrolling page to the bottom\n",
    "#     driver.execute_script(\"window.scrollBy(0,document.body.scrollHeight)\")\n",
    "    elm=driver.find_element_by_tag_name('html')\n",
    "    elm.send_keys(Keys.END)\n",
    "    try:\n",
    "        # for clicking show more results button\n",
    "        driver.find_element_by_xpath(\"/html/body/div[2]/c-wiz/div[3]/div[1]/div/div/div/div/div[5]/input\").click()\n",
    "    except Exception as e:\n",
    "        pass\n",
    "    time.sleep(1)\n",
    "    i+=1\n",
    "\n",
    "# Identifies the elements to store in a list the url of the images\n",
    "element_1=driver.find_element_by_xpath('//*[@id=\"yDmH0d\"]/div[2]/c-wiz/div[4]')\n",
    "\n",
    "images_google=[]\n",
    "for i in element_1.find_elements_by_css_selector('div.bRMDJf.islir'):\n",
    "    if i.find_element_by_css_selector('img.rg_i.Q4LuWd').get_attribute('src') != None:\n",
    "        images_google.append(i.find_element_by_css_selector('img.rg_i.Q4LuWd').get_attribute('src'))\n",
    "    elif i.find_element_by_css_selector('img.rg_i.Q4LuWd').get_attribute('data-src') != None:\n",
    "        images_google.append(i.find_element_by_css_selector('img.rg_i.Q4LuWd').get_attribute('data-src'))\n",
    "    else:\n",
    "        pass\n",
    "\n",
    "    \n",
    "#close connection\n",
    "driver.close()\n",
    "\n",
    "# Extract images to local disk\n",
    "count=1\n",
    "for i in images_google:\n",
    "    urllib.request.urlretrieve(i, path+str('{:d}'.format(count).zfill(6))+\".jpg\")\n",
    "    count += 1\n",
    "    print('Images downloaded = '+str(count),end='\\r')"
   ]
  },
  {
   "cell_type": "markdown",
   "metadata": {},
   "source": [
    "Rename Files"
   ]
  },
  {
   "cell_type": "code",
   "execution_count": 55,
   "metadata": {},
   "outputs": [],
   "source": [
    "ruta = './data/guitars/fender_jazzmaster//'\n",
    "for count, filename in enumerate(os.listdir(ruta)):\n",
    "    os.rename(ruta+filename, f'{count}.jpg')\n",
    "    print('Files renamed = '+str(count),end='\\r')"
   ]
  },
  {
   "cell_type": "markdown",
   "metadata": {},
   "source": [
    "It's very important to save first as temp name to avoid exclude names that exists"
   ]
  },
  {
   "cell_type": "code",
   "execution_count": 12,
   "metadata": {},
   "outputs": [],
   "source": [
    "import os\n",
    "ruta='./data/train/'\n",
    "# ruta='./data/pru/train/'\n",
    "for folder in (sorted(os.listdir(ruta))):\n",
    "    path=f'{ruta}{folder}/'\n",
    "    for count, filename in enumerate(sorted(os.listdir(path))):\n",
    "        os.rename(path+filename, path+str('{:d}'.format(count+1).zfill(6))+\".tmp\")\n",
    "for folder in (sorted(os.listdir(ruta))):\n",
    "    path=f'{ruta}{folder}/'\n",
    "    for count, filename in enumerate(sorted(os.listdir(path))):\n",
    "        os.rename(path+filename, path+str('{:d}'.format(count+1).zfill(6))+\".jpg\")       "
   ]
  },
  {
   "cell_type": "raw",
   "metadata": {},
   "source": [
    "ruta = './data/fender_mustang/'\n",
    "for count, filename in enumerate(sorted(os.listdir(ruta))):\n",
    "    os.rename(ruta+filename, ruta+str('{:d}'.format(count+1).zfill(6))+\".tmp\")\n",
    "for count, filename in enumerate(sorted(os.listdir(ruta))):\n",
    "    os.rename(ruta+filename, ruta+str('{:d}'.format(count+1).zfill(6))+\".jpg\")"
   ]
  },
  {
   "cell_type": "raw",
   "metadata": {},
   "source": [
    "ruta='./data/images_download/'\n",
    "for folder in (sorted(os.listdir(ruta))):\n",
    "    path=f'{ruta}{folder}/'\n",
    "#     print(path)\n",
    "    for count, filename in enumerate(sorted(os.listdir(path))):\n",
    "#         print(path+filename)\n",
    "        os.rename(path+filename, path+str('{:d}'.format(count+1).zfill(10))+\".jpg\")"
   ]
  }
 ],
 "metadata": {
  "kernelspec": {
   "display_name": "Python [conda env:project_env]",
   "language": "python",
   "name": "conda-env-project_env-py"
  },
  "language_info": {
   "codemirror_mode": {
    "name": "ipython",
    "version": 3
   },
   "file_extension": ".py",
   "mimetype": "text/x-python",
   "name": "python",
   "nbconvert_exporter": "python",
   "pygments_lexer": "ipython3",
   "version": "3.7.9"
  }
 },
 "nbformat": 4,
 "nbformat_minor": 4
}
