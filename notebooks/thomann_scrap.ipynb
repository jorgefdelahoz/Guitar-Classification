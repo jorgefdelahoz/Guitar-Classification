{
 "cells": [
  {
   "cell_type": "code",
   "execution_count": null,
   "metadata": {},
   "outputs": [],
   "source": [
    "import os\n",
    "import numpy as np\n",
    "from selenium import webdriver\n",
    "from selenium.webdriver.firefox.options import Options\n",
    "import time\n",
    "import re\n",
    "import pandas as pd"
   ]
  },
  {
   "cell_type": "code",
   "execution_count": null,
   "metadata": {},
   "outputs": [],
   "source": [
    "def link_extractor(link):\n",
    "    os.environ['PATH'] = f'{os.environ[\"PATH\"]}:{os.getcwd()}/drivers'\n",
    "    os.environ['PATH']\n",
    "\n",
    "    options = Options()\n",
    "    options.set_headless(headless=True)\n",
    "    driver = webdriver.Firefox(firefox_options=options)\n",
    "    \n",
    "    driver.get(link)\n",
    "    \n",
    "    # Get total pages\n",
    "    total_page=int(driver.find_element_by_id('resultPageNavigation').text.split()[-1])\n",
    "    \n",
    "    # Get Url\n",
    "    url=driver.find_elements_by_class_name('page')[1].find_element_by_class_name('rs-btn').get_attribute('href')\n",
    "\n",
    "    # Generate url list\n",
    "    url_list=[url.replace('?pg=2',f'?pg={i}') for i in range(1,total_page+1)]\n",
    "    \n",
    "    driver.close()\n",
    "\n",
    "    return url_list"
   ]
  },
  {
   "cell_type": "code",
   "execution_count": null,
   "metadata": {},
   "outputs": [],
   "source": [
    "pages=link_extractor('https://www.thomann.de/es/otros_tipos_de_construccion.html')"
   ]
  },
  {
   "cell_type": "code",
   "execution_count": null,
   "metadata": {},
   "outputs": [],
   "source": [
    "def guitar_info(page):\n",
    "    os.environ['PATH'] = f'{os.environ[\"PATH\"]}:{os.getcwd()}/drivers'\n",
    "    os.environ['PATH']\n",
    "\n",
    "    options = Options()\n",
    "    options.set_headless(headless=True)\n",
    "    driver = webdriver.Firefox(firefox_options=options)    \n",
    "\n",
    "    driver.get(page)\n",
    "    \n",
    "    # Extract guitar info\n",
    "    ginfo=[]\n",
    "    for i in driver.find_elements_by_xpath('//*[@id=\"defaultResultPage\"]/div'):\n",
    "        g_info=re.split('\\n',i.text)\n",
    "        # Check if not have reviews\n",
    "        if g_info[1].isnumeric() != True:\n",
    "            g_info.insert(1,0)\n",
    "        # Extract Url guitar\n",
    "        g_info.append(i.find_element_by_class_name('article-link.link').get_attribute('href'))\n",
    "        # Extract image\n",
    "        g_info.append(i.find_element_by_class_name('image').get_attribute('src'))\n",
    "        ginfo.append(g_info)  \n",
    "        \n",
    "    print(len(ginfo))    \n",
    "    time.sleep(1)\n",
    "    driver.close()\n",
    "    \n",
    "    return ginfo    "
   ]
  },
  {
   "cell_type": "code",
   "execution_count": null,
   "metadata": {},
   "outputs": [],
   "source": [
    "def guitar_info(pages):\n",
    "    ginfo=[]\n",
    "    for count, page in enumerate(pages):\n",
    "        \n",
    "        os.environ['PATH'] = f'{os.environ[\"PATH\"]}:{os.getcwd()}/drivers'\n",
    "        os.environ['PATH']\n",
    "\n",
    "        options = Options()\n",
    "        options.set_headless(headless=True)\n",
    "        driver = webdriver.Firefox(firefox_options=options)    \n",
    "        \n",
    "        driver.get(page)\n",
    "\n",
    "        print(f'Page {count+1} - Starts: {time.ctime()}')\n",
    "\n",
    "\n",
    "        # Extract guitar info\n",
    "        \n",
    "        for i in driver.find_elements_by_xpath('//*[@id=\"defaultResultPage\"]/div'):\n",
    "            g_info=re.split('\\n',i.text)\n",
    "            # Check if not have reviews\n",
    "            if g_info[1].isnumeric() != True:\n",
    "                g_info.insert(1,0)\n",
    "            # Extract Url guitar\n",
    "            g_info.append(i.find_element_by_class_name('article-link.link').get_attribute('href'))\n",
    "            # Extract image\n",
    "            g_info.append(i.find_element_by_class_name('image').get_attribute('src'))\n",
    "            ginfo.append(g_info)  \n",
    "\n",
    "        print(len(ginfo))    \n",
    "        time.sleep(1)\n",
    "        driver.close()\n",
    "        \n",
    "        print(f'Ends: {time.ctime()}')\n",
    "    \n",
    "    return ginfo "
   ]
  },
  {
   "cell_type": "code",
   "execution_count": null,
   "metadata": {},
   "outputs": [],
   "source": [
    "ginfo=guitar_info(pages)"
   ]
  },
  {
   "cell_type": "code",
   "execution_count": null,
   "metadata": {},
   "outputs": [],
   "source": [
    "# Clean cols\n",
    "def clean_cols(list_guitar_info):\n",
    "    # Check length\n",
    "    check=[len(i) for count, i in enumerate(list_guitar_info)]\n",
    "    \n",
    "    for num in pd.unique(check):\n",
    "        if num != 9 and num != 11 and num != 12:\n",
    "            break\n",
    "        else:\n",
    "            pass\n",
    "    \n",
    "        for count, i in enumerate(list_guitar_info):\n",
    "            if len(i)==11:\n",
    "                del i[2:5]\n",
    "                del i[3:6]\n",
    "            elif len(i)==12:\n",
    "                del i[2:6]\n",
    "                del i[3:6]\n",
    "            elif len(i)==9:\n",
    "                del i[2]\n",
    "                del i[3:6] "
   ]
  },
  {
   "cell_type": "code",
   "execution_count": null,
   "metadata": {},
   "outputs": [],
   "source": [
    "def rating_guitar(g_info_list):\n",
    "    rating=[]\n",
    "    for count, url_guitar in enumerate(g_info_list):\n",
    "        os.environ['PATH'] = f'{os.environ[\"PATH\"]}:{os.getcwd()}/drivers'\n",
    "\n",
    "        os.environ['PATH']\n",
    "\n",
    "\n",
    "        options = Options()\n",
    "        options.set_headless(headless=True)\n",
    "        driver = webdriver.Firefox(firefox_options=options)\n",
    "\n",
    "        print(f'Element {count+1} - Starts: {time.ctime()}')\n",
    "        driver.get(url_guitar[3])\n",
    "        try:\n",
    "            rating.append(driver.find_element_by_class_name('ratingValue').text)\n",
    "        except:\n",
    "            rating.append(0)\n",
    "\n",
    "        driver.close()\n",
    "        print(f'Ends: {time.ctime()}')\n",
    "        \n",
    "    return rating"
   ]
  },
  {
   "cell_type": "code",
   "execution_count": null,
   "metadata": {},
   "outputs": [],
   "source": [
    "clean_cols(ginfo)"
   ]
  },
  {
   "cell_type": "code",
   "execution_count": null,
   "metadata": {},
   "outputs": [],
   "source": [
    "rating=rating_guitar(ginfo)"
   ]
  },
  {
   "cell_type": "code",
   "execution_count": null,
   "metadata": {},
   "outputs": [],
   "source": [
    "# Make DataFrame\n",
    "def data_model(ginfo,rating):\n",
    "    data=pd.DataFrame(ginfo,columns=['Guitar','Reviews','Price','Url_Product','Url_image'])\n",
    "    data['Rating']=rating\n",
    "    return data"
   ]
  },
  {
   "cell_type": "code",
   "execution_count": null,
   "metadata": {},
   "outputs": [],
   "source": [
    "strato_data=data_model(ginfo,rating)"
   ]
  },
  {
   "cell_type": "code",
   "execution_count": null,
   "metadata": {},
   "outputs": [],
   "source": [
    "# For all products with 2 prices (Discount / Old) get the actual Price\n",
    "def clean_price(df):\n",
    "    return df.apply(lambda x : re.split('(?<=\\€)(.*?)(?=\\\\w)' ,x)[0] \n",
    "                    if len(re.split('(?<=\\€)(.*?)(?=\\\\w)' ,x)[0])>1 else x)"
   ]
  },
  {
   "cell_type": "code",
   "execution_count": null,
   "metadata": {},
   "outputs": [],
   "source": [
    "# Extract all brands in list\n",
    "def brand_extractor(url_class):\n",
    "    os.environ['PATH'] = f'{os.environ[\"PATH\"]}:{os.getcwd()}/drivers'\n",
    "    os.environ['PATH']\n",
    "\n",
    "    options = Options()\n",
    "    options.set_headless(headless=True)\n",
    "    driver = webdriver.Firefox(firefox_options=options)    \n",
    "\n",
    "    driver.get(url_class)\n",
    "    \n",
    "    brand_list = [i.get_attribute('value') for i in driver.find_elements_by_xpath('//*[@id=\"keyfeaturefilter-manufacturer-select\"]/option')]\n",
    "    \n",
    "    driver.close()\n",
    "    \n",
    "    return brand_list"
   ]
  },
  {
   "cell_type": "code",
   "execution_count": null,
   "metadata": {},
   "outputs": [],
   "source": [
    "brand_list=brand_extractor('https://www.thomann.de/es/modelos_st.html?viewMode=block')"
   ]
  },
  {
   "cell_type": "code",
   "execution_count": null,
   "metadata": {},
   "outputs": [],
   "source": [
    "strato_data['Price']=clean_price(strato_data['Price'])"
   ]
  },
  {
   "cell_type": "code",
   "execution_count": null,
   "metadata": {},
   "outputs": [],
   "source": [
    "# Get Brand & Model from guitar\n",
    "def get_df_brand_model(data, brand_list):\n",
    "    l=[re.split(fr'({brand})',i)[1:]  for i in data for brand in brand_list if re.findall(brand,i)==[brand]]\n",
    "    return pd.DataFrame(l, columns=['Brand','Model'])"
   ]
  },
  {
   "cell_type": "code",
   "execution_count": null,
   "metadata": {},
   "outputs": [],
   "source": [
    "df=get_df_brand_model(strato_data['Guitar'],brand_list)"
   ]
  },
  {
   "cell_type": "code",
   "execution_count": null,
   "metadata": {},
   "outputs": [],
   "source": [
    "# Save your data\n",
    "strato_data.to_csv('./data/raw/thomann/stratocaster.csv',index=False)\n",
    "strato_data"
   ]
  }
 ],
 "metadata": {
  "kernelspec": {
   "display_name": "Python [conda env:project_env]",
   "language": "python",
   "name": "conda-env-project_env-py"
  },
  "language_info": {
   "codemirror_mode": {
    "name": "ipython",
    "version": 3
   },
   "file_extension": ".py",
   "mimetype": "text/x-python",
   "name": "python",
   "nbconvert_exporter": "python",
   "pygments_lexer": "ipython3",
   "version": "3.7.9"
  }
 },
 "nbformat": 4,
 "nbformat_minor": 4
}
